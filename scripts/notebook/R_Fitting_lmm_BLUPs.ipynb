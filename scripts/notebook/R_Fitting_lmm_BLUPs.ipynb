{
 "cells": [
  {
   "cell_type": "code",
   "execution_count": 3,
   "metadata": {},
   "outputs": [],
   "source": [
    ".libPaths(c('/home/ssapkot/.conda/envs/r_env_360/lib', .libPaths()))\n",
    "\n",
    "#install.packages(\"adegenet\",repos='http://cran.us.r-project.org', dependencies = TRUE)\n",
    "library(BGLR)\n",
    "library(coda)\n",
    "library(tidyverse)\n",
    "library(ggplot2)\n",
    "library(BMTME)\n",
    "library(lme4)\n",
    "library(pheatmap)\n",
    "\n",
    "setwd('/panicle/ssapkot/GrainComp/')"
   ]
  },
  {
   "cell_type": "code",
   "execution_count": null,
   "metadata": {},
   "outputs": [],
   "source": []
  },
  {
   "cell_type": "markdown",
   "metadata": {},
   "source": [
    "### SAP Grain Composition variance component analysis Starch and Protein"
   ]
  },
  {
   "cell_type": "code",
   "execution_count": 7,
   "metadata": {},
   "outputs": [
    {
     "data": {
      "text/html": [
       "<table>\n",
       "<thead><tr><th scope=col>Taxa</th><th scope=col>Location</th><th scope=col>Year</th><th scope=col>Rep</th><th scope=col>Protein</th><th scope=col>Starch</th></tr></thead>\n",
       "<tbody>\n",
       "\t<tr><td>PI17548 </td><td>SC      </td><td>2013    </td><td>1       </td><td>10.71   </td><td>66.7    </td></tr>\n",
       "\t<tr><td>PI24969 </td><td>SC      </td><td>2013    </td><td>1       </td><td>11.05   </td><td>72.2    </td></tr>\n",
       "\t<tr><td>PI34911 </td><td>SC      </td><td>2013    </td><td>1       </td><td>10.49   </td><td>71.1    </td></tr>\n",
       "\t<tr><td>PI35038 </td><td>SC      </td><td>2013    </td><td>1       </td><td>11.55   </td><td>65.2    </td></tr>\n",
       "\t<tr><td>PI48770 </td><td>SC      </td><td>2013    </td><td>1       </td><td>13.20   </td><td>67.6    </td></tr>\n",
       "\t<tr><td>PI152651</td><td>SC      </td><td>2013    </td><td>1       </td><td> 9.03   </td><td>73.9    </td></tr>\n",
       "</tbody>\n",
       "</table>\n"
      ],
      "text/latex": [
       "\\begin{tabular}{r|llllll}\n",
       " Taxa & Location & Year & Rep & Protein & Starch\\\\\n",
       "\\hline\n",
       "\t PI17548  & SC       & 2013     & 1        & 10.71    & 66.7    \\\\\n",
       "\t PI24969  & SC       & 2013     & 1        & 11.05    & 72.2    \\\\\n",
       "\t PI34911  & SC       & 2013     & 1        & 10.49    & 71.1    \\\\\n",
       "\t PI35038  & SC       & 2013     & 1        & 11.55    & 65.2    \\\\\n",
       "\t PI48770  & SC       & 2013     & 1        & 13.20    & 67.6    \\\\\n",
       "\t PI152651 & SC       & 2013     & 1        &  9.03    & 73.9    \\\\\n",
       "\\end{tabular}\n"
      ],
      "text/markdown": [
       "\n",
       "| Taxa | Location | Year | Rep | Protein | Starch |\n",
       "|---|---|---|---|---|---|\n",
       "| PI17548  | SC       | 2013     | 1        | 10.71    | 66.7     |\n",
       "| PI24969  | SC       | 2013     | 1        | 11.05    | 72.2     |\n",
       "| PI34911  | SC       | 2013     | 1        | 10.49    | 71.1     |\n",
       "| PI35038  | SC       | 2013     | 1        | 11.55    | 65.2     |\n",
       "| PI48770  | SC       | 2013     | 1        | 13.20    | 67.6     |\n",
       "| PI152651 | SC       | 2013     | 1        |  9.03    | 73.9     |\n",
       "\n"
      ],
      "text/plain": [
       "  Taxa     Location Year Rep Protein Starch\n",
       "1 PI17548  SC       2013 1   10.71   66.7  \n",
       "2 PI24969  SC       2013 1   11.05   72.2  \n",
       "3 PI34911  SC       2013 1   10.49   71.1  \n",
       "4 PI35038  SC       2013 1   11.55   65.2  \n",
       "5 PI48770  SC       2013 1   13.20   67.6  \n",
       "6 PI152651 SC       2013 1    9.03   73.9  "
      ]
     },
     "metadata": {},
     "output_type": "display_data"
    },
    {
     "name": "stdout",
     "output_type": "stream",
     "text": [
      "'data.frame':\t2402 obs. of  6 variables:\n",
      " $ Taxa    : Factor w/ 406 levels \"PI152651\",\"PI17548\",..: 2 3 8 9 10 1 4 5 6 7 ...\n",
      " $ Location: Factor w/ 1 level \"SC\": 1 1 1 1 1 1 1 1 1 1 ...\n",
      " $ Year    : Factor w/ 3 levels \"2013\",\"2014\",..: 1 1 1 1 1 1 1 1 1 1 ...\n",
      " $ Rep     : Factor w/ 2 levels \"1\",\"2\": 1 1 1 1 1 1 1 1 1 1 ...\n",
      " $ Protein : num  10.7 11.1 10.5 11.6 13.2 ...\n",
      " $ Starch  : num  66.7 72.2 71.1 65.2 67.6 73.9 NA NA 66.8 70.1 ...\n"
     ]
    }
   ],
   "source": [
    "main <- read.csv('data/SAP_multiyear_agronomic_composition.csv',header=T)\n",
    "main <- main[,c('Taxa','Location','Year','Rep','Protein','Starch')]\n",
    "head(main)\n",
    "main$Year <- as.factor(main$Year)\n",
    "main$Rep <- as.factor(main$Rep)\n",
    "str(main)"
   ]
  },
  {
   "cell_type": "markdown",
   "metadata": {},
   "source": [
    "### Starch linear mixed model fit"
   ]
  },
  {
   "cell_type": "code",
   "execution_count": 20,
   "metadata": {},
   "outputs": [
    {
     "data": {
      "text/plain": [
       "Linear mixed model fit by REML ['lmerMod']\n",
       "Formula: Starch ~ (1 | Taxa) + (1 | Taxa:Year) + (1 | Year:Rep)\n",
       "   Data: main\n",
       "\n",
       "REML criterion at convergence: 9961.2\n",
       "\n",
       "Scaled residuals: \n",
       "    Min      1Q  Median      3Q     Max \n",
       "-8.7394 -0.4968  0.0234  0.5339  3.8046 \n",
       "\n",
       "Random effects:\n",
       " Groups    Name        Variance Std.Dev.\n",
       " Taxa:Year (Intercept) 1.0698   1.0343  \n",
       " Taxa      (Intercept) 3.3639   1.8341  \n",
       " Year:Rep  (Intercept) 0.1405   0.3748  \n",
       " Residual              2.9223   1.7095  \n",
       "Number of obs: 2233, groups:  Taxa:Year, 1143; Taxa, 401; Year:Rep, 6\n",
       "\n",
       "Fixed effects:\n",
       "            Estimate Std. Error t value\n",
       "(Intercept)   68.272      0.185   369.1"
      ]
     },
     "metadata": {},
     "output_type": "display_data"
    },
    {
     "data": {
      "text/html": [
       "<table>\n",
       "<thead><tr><th></th><th scope=col>(Intercept)</th></tr></thead>\n",
       "<tbody>\n",
       "\t<tr><th scope=row>PI152651</th><td> 1.914808</td></tr>\n",
       "\t<tr><th scope=row>PI17548</th><td>-2.365297</td></tr>\n",
       "\t<tr><th scope=row>PI24969</th><td> 2.489111</td></tr>\n",
       "\t<tr><th scope=row>PI329435</th><td>-1.093955</td></tr>\n",
       "\t<tr><th scope=row>PI329440</th><td> 1.155288</td></tr>\n",
       "\t<tr><th scope=row>PI34911</th><td> 3.088732</td></tr>\n",
       "</tbody>\n",
       "</table>\n"
      ],
      "text/latex": [
       "\\begin{tabular}{r|l}\n",
       "  & (Intercept)\\\\\n",
       "\\hline\n",
       "\tPI152651 &  1.914808\\\\\n",
       "\tPI17548 & -2.365297\\\\\n",
       "\tPI24969 &  2.489111\\\\\n",
       "\tPI329435 & -1.093955\\\\\n",
       "\tPI329440 &  1.155288\\\\\n",
       "\tPI34911 &  3.088732\\\\\n",
       "\\end{tabular}\n"
      ],
      "text/markdown": [
       "\n",
       "| <!--/--> | (Intercept) |\n",
       "|---|---|\n",
       "| PI152651 |  1.914808 |\n",
       "| PI17548 | -2.365297 |\n",
       "| PI24969 |  2.489111 |\n",
       "| PI329435 | -1.093955 |\n",
       "| PI329440 |  1.155288 |\n",
       "| PI34911 |  3.088732 |\n",
       "\n"
      ],
      "text/plain": [
       "         (Intercept)\n",
       "PI152651  1.914808  \n",
       "PI17548  -2.365297  \n",
       "PI24969   2.489111  \n",
       "PI329435 -1.093955  \n",
       "PI329440  1.155288  \n",
       "PI34911   3.088732  "
      ]
     },
     "metadata": {},
     "output_type": "display_data"
    }
   ],
   "source": [
    "fit1 <- lmer(Starch ~ (1|Taxa)  + (1|Taxa:Year) + (1|Year:Rep), data=main)\n",
    "#fit2 <- lmer(Starch ~ (1|Taxa) + (1|Year) + (1|Taxa:Year) + (1|Year/Rep), data=main)\n",
    "summary(fit1)\n",
    "#summary(fit2)\n",
    "head(ranef(fit1)$Taxa)"
   ]
  },
  {
   "cell_type": "markdown",
   "metadata": {},
   "source": [
    "### Protein linear mixed model fit"
   ]
  },
  {
   "cell_type": "code",
   "execution_count": 23,
   "metadata": {},
   "outputs": [
    {
     "data": {
      "text/plain": [
       "Linear mixed model fit by REML ['lmerMod']\n",
       "Formula: Protein ~ (1 | Taxa) + (1 | Year) + (1 | Taxa:Year) + (1 | Year:Rep)\n",
       "   Data: main\n",
       "\n",
       "REML criterion at convergence: 7642.5\n",
       "\n",
       "Scaled residuals: \n",
       "    Min      1Q  Median      3Q     Max \n",
       "-3.1097 -0.5329 -0.0165  0.5330  3.3074 \n",
       "\n",
       "Random effects:\n",
       " Groups    Name        Variance Std.Dev.\n",
       " Taxa:Year (Intercept) 0.27882  0.5280  \n",
       " Taxa      (Intercept) 0.86903  0.9322  \n",
       " Year:Rep  (Intercept) 0.06605  0.2570  \n",
       " Year      (Intercept) 0.49415  0.7030  \n",
       " Residual              1.15484  1.0746  \n",
       "Number of obs: 2233, groups:  Taxa:Year, 1143; Taxa, 401; Year:Rep, 6; Year, 3\n",
       "\n",
       "Fixed effects:\n",
       "            Estimate Std. Error t value\n",
       "(Intercept)  12.0443     0.4227   28.49"
      ]
     },
     "metadata": {},
     "output_type": "display_data"
    },
    {
     "data": {
      "text/html": [
       "<table>\n",
       "<thead><tr><th></th><th scope=col>(Intercept)</th></tr></thead>\n",
       "<tbody>\n",
       "\t<tr><th scope=row>PI152651</th><td>-0.8249780</td></tr>\n",
       "\t<tr><th scope=row>PI17548</th><td>-0.3060034</td></tr>\n",
       "\t<tr><th scope=row>PI24969</th><td>-0.8688896</td></tr>\n",
       "\t<tr><th scope=row>PI329435</th><td> 1.1385000</td></tr>\n",
       "\t<tr><th scope=row>PI329440</th><td>-0.1399563</td></tr>\n",
       "\t<tr><th scope=row>PI34911</th><td>-1.3908109</td></tr>\n",
       "</tbody>\n",
       "</table>\n"
      ],
      "text/latex": [
       "\\begin{tabular}{r|l}\n",
       "  & (Intercept)\\\\\n",
       "\\hline\n",
       "\tPI152651 & -0.8249780\\\\\n",
       "\tPI17548 & -0.3060034\\\\\n",
       "\tPI24969 & -0.8688896\\\\\n",
       "\tPI329435 &  1.1385000\\\\\n",
       "\tPI329440 & -0.1399563\\\\\n",
       "\tPI34911 & -1.3908109\\\\\n",
       "\\end{tabular}\n"
      ],
      "text/markdown": [
       "\n",
       "| <!--/--> | (Intercept) |\n",
       "|---|---|\n",
       "| PI152651 | -0.8249780 |\n",
       "| PI17548 | -0.3060034 |\n",
       "| PI24969 | -0.8688896 |\n",
       "| PI329435 |  1.1385000 |\n",
       "| PI329440 | -0.1399563 |\n",
       "| PI34911 | -1.3908109 |\n",
       "\n"
      ],
      "text/plain": [
       "         (Intercept)\n",
       "PI152651 -0.8249780 \n",
       "PI17548  -0.3060034 \n",
       "PI24969  -0.8688896 \n",
       "PI329435  1.1385000 \n",
       "PI329440 -0.1399563 \n",
       "PI34911  -1.3908109 "
      ]
     },
     "metadata": {},
     "output_type": "display_data"
    }
   ],
   "source": [
    "fit1 <- lmer(Protein ~ (1|Taxa) + (1|Year) + (1|Taxa:Year) + (1|Year:Rep), data=main)\n",
    "summary(fit1)\n",
    "\n",
    "head(ranef(fit1)$Taxa)"
   ]
  },
  {
   "cell_type": "markdown",
   "metadata": {},
   "source": []
  },
  {
   "cell_type": "code",
   "execution_count": null,
   "metadata": {},
   "outputs": [],
   "source": []
  }
 ],
 "metadata": {
  "kernelspec": {
   "display_name": "R 3.6.0",
   "language": "R",
   "name": "ir360"
  },
  "language_info": {
   "codemirror_mode": "r",
   "file_extension": ".r",
   "mimetype": "text/x-r-source",
   "name": "R",
   "pygments_lexer": "r",
   "version": "3.6.0"
  }
 },
 "nbformat": 4,
 "nbformat_minor": 2
}
